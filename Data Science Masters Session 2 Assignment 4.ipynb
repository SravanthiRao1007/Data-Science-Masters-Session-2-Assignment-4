{
 "cells": [
  {
   "cell_type": "code",
   "execution_count": 27,
   "metadata": {},
   "outputs": [
    {
     "name": "stdout",
     "output_type": "stream",
     "text": [
      "WE,THE PEOPLE OF INDIA, \n",
      "     having solemnly resolved to constitute India into a SOVEREIGN, !\n",
      "            SOCIALIST, SECULAR, DEMOCRATIC REPUBLIC\n",
      "            and to secure to all its citizens:\n"
     ]
    }
   ],
   "source": [
    "# Sravanthi's Session 2 Assignment 4\n",
    "s = \"WE,THE PEOPLE OF INDIA, having solemnly resolved to constitute India into a SOVEREIGN, SOCIALIST, SECULAR, DEMOCRATIC REPUBLIC and to secure to all its citizens\"\n",
    "s1 = s[0:24]\n",
    "s2 = s[23:86]\n",
    "s2 = s2 + ' !'\n",
    "s3 = s[86:126]\n",
    "s4 = s[126:160]\n",
    "s4 = s4 + \":\"\n",
    "\n",
    "# Printing as required\n",
    "print(s1)\n",
    "print('    {:>50}'.format(s2))\n",
    "print(' {:>50}'  .format(s3))\n",
    "print(' {:>45}'  .format(s4))"
   ]
  },
  {
   "cell_type": "code",
   "execution_count": null,
   "metadata": {},
   "outputs": [],
   "source": []
  }
 ],
 "metadata": {
  "kernelspec": {
   "display_name": "Python 3",
   "language": "python",
   "name": "python3"
  },
  "language_info": {
   "codemirror_mode": {
    "name": "ipython",
    "version": 3
   },
   "file_extension": ".py",
   "mimetype": "text/x-python",
   "name": "python",
   "nbconvert_exporter": "python",
   "pygments_lexer": "ipython3",
   "version": "3.6.5"
  }
 },
 "nbformat": 4,
 "nbformat_minor": 2
}
